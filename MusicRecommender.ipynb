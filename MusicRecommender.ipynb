{
 "cells": [
  {
   "cell_type": "code",
   "execution_count": 23,
   "id": "2a717c42",
   "metadata": {},
   "outputs": [
    {
     "data": {
      "text/plain": [
       "array(['HipHop'], dtype=object)"
      ]
     },
     "execution_count": 23,
     "metadata": {},
     "output_type": "execute_result"
    }
   ],
   "source": [
    "import pandas as pd\n",
    "from sklearn.tree import DecisionTreeClassifier\n",
    "import joblib\n",
    "\n",
    "# Giving Data To The Model: \n",
    "    # music_data = pd.read_csv('music.csv')\n",
    "\n",
    "# Splitting Data Into Training And Testing Data Sets:\n",
    "    # X = music_data.drop(columns=['genre'])\n",
    "    # y = music_data['genre']\n",
    "\n",
    "# Training The Model:\n",
    "    # model = DecisionTreeClassifier()\n",
    "    # model.fit(X.values,y)\n",
    "\n",
    "# Saving The Trained Model Into A Joblib File:\n",
    "    #joblib.dump(model,'music-recommender.joblib')\n",
    "\n",
    "# Using The Trained Model- Joblib File:\n",
    "model = joblib.load('music-recommender.joblib')\n",
    "predictions = model.predict([ [21,1]])\n",
    "predictions"
   ]
  }
 ],
 "metadata": {
  "kernelspec": {
   "display_name": "Python 3 (ipykernel)",
   "language": "python",
   "name": "python3"
  },
  "language_info": {
   "codemirror_mode": {
    "name": "ipython",
    "version": 3
   },
   "file_extension": ".py",
   "mimetype": "text/x-python",
   "name": "python",
   "nbconvert_exporter": "python",
   "pygments_lexer": "ipython3",
   "version": "3.9.12"
  }
 },
 "nbformat": 4,
 "nbformat_minor": 5
}
